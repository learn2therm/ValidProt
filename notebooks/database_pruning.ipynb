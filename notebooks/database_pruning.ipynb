{
 "cells": [
  {
   "cell_type": "markdown",
   "id": "a0ee121d",
   "metadata": {},
   "source": [
    "## Database pruning notebook\n",
    "\n",
    "__Do not attempt to run this code unless you are trying to reproduce data generated from the original l2t database Feb. 2023.__"
   ]
  },
  {
   "cell_type": "code",
   "execution_count": 1,
   "id": "8c07e4c9",
   "metadata": {},
   "outputs": [],
   "source": [
    "import pandas as pd\n",
    "import numpy as np\n",
    "import duckdb\n",
    "import time"
   ]
  },
  {
   "cell_type": "code",
   "execution_count": 2,
   "id": "7bca55fb",
   "metadata": {},
   "outputs": [],
   "source": [
    "def connect_db(path: str):\n",
    "    '''Runs duckdb.connect() function on database path with timing. Returns a \n",
    "duckdb.DuckDBPyConnection object'''\n",
    "    \n",
    "    st = time.time()\n",
    "\n",
    "    print('Connecting to database...')\n",
    "    con = duckdb.connect(path)\n",
    "\n",
    "    et = time.time()\n",
    "    elapsed_time = et - st\n",
    "    print(f'Connection established! Execution time: {elapsed_time} seconds')\n",
    "    return con"
   ]
  },
  {
   "cell_type": "code",
   "execution_count": 3,
   "id": "76cf0b07",
   "metadata": {},
   "outputs": [
    {
     "name": "stdout",
     "output_type": "stream",
     "text": [
      "Connecting to database...\n",
      "Connection established! Execution time: 39.82907009124756 seconds\n"
     ]
    }
   ],
   "source": [
    "con = connect_db('/mnt/c/Users/Ryan/Documents/database')"
   ]
  },
  {
   "cell_type": "markdown",
   "id": "1fde6b68",
   "metadata": {},
   "source": [
    "__Initial sizes__\n",
    "\n",
    "proteins: 6 x 65427472 <br/>\n",
    "protein_pairs: 21 x 181500502 <br/>\n",
    "taxa: 10 x 16664 <br/>\n",
    "taxa_pairs: 17 x 750633"
   ]
  },
  {
   "cell_type": "markdown",
   "id": "2d14aeae",
   "metadata": {},
   "source": [
    "#### First remove unnecessary columns from all 4 data tables."
   ]
  },
  {
   "cell_type": "code",
   "execution_count": 7,
   "id": "aad7c20c",
   "metadata": {},
   "outputs": [
    {
     "name": "stdout",
     "output_type": "stream",
     "text": [
      "Table proteins cleaned.\n",
      "Table protein_pairs cleaned.\n",
      "Table taxa cleaned.\n",
      "Table taxa_pairs cleaned.\n"
     ]
    }
   ],
   "source": [
    "proteins_del = ['protein_index']\n",
    "protein_pairs_del = ['thermo_protein_index', 'meso_protein_index', 'local_E_value', 'query_align_start', 'query_align_end', \n",
    "                     'subject_align_start', 'subject_align_end']\n",
    "taxa_del = ['filepath','ogt_scraped_string']\n",
    "taxa_pairs_del = ['local_E_value', 'query_align_start', 'query_align_end', 'subject_align_start', 'subject_align_end']\n",
    "\n",
    "tables = {'proteins':proteins_del, 'protein_pairs':protein_pairs_del, 'taxa':taxa_del, 'taxa_pairs':taxa_pairs_del}\n",
    "\n",
    "# Drop unnecessary columns from tables\n",
    "for table in tables:\n",
    "    for col in tables[table]:\n",
    "        cmd = f\"\"\"ALTER TABLE {table} \n",
    "        DROP COLUMN IF EXISTS {col}\"\"\"\n",
    "\n",
    "        con.execute(cmd)\n",
    "    print(f'Table {table} cleaned.')"
   ]
  },
  {
   "cell_type": "code",
   "execution_count": 9,
   "id": "3fc9f1f6",
   "metadata": {},
   "outputs": [
    {
     "data": {
      "text/html": [
       "<div>\n",
       "<style scoped>\n",
       "    .dataframe tbody tr th:only-of-type {\n",
       "        vertical-align: middle;\n",
       "    }\n",
       "\n",
       "    .dataframe tbody tr th {\n",
       "        vertical-align: top;\n",
       "    }\n",
       "\n",
       "    .dataframe thead th {\n",
       "        text-align: right;\n",
       "    }\n",
       "</style>\n",
       "<table border=\"1\" class=\"dataframe\">\n",
       "  <thead>\n",
       "    <tr style=\"text-align: right;\">\n",
       "      <th></th>\n",
       "      <th>taxa_index</th>\n",
       "      <th>protein_seq</th>\n",
       "      <th>protein_desc</th>\n",
       "      <th>protein_len</th>\n",
       "      <th>protein_int_index</th>\n",
       "    </tr>\n",
       "  </thead>\n",
       "  <tbody>\n",
       "    <tr>\n",
       "      <th>0</th>\n",
       "      <td>4417</td>\n",
       "      <td>MSKYDEALARMQLRSNEAFERITGQTVEQYQQEQRQNRMPTTAQLA...</td>\n",
       "      <td>hypothetical protein</td>\n",
       "      <td>4602</td>\n",
       "      <td>0</td>\n",
       "    </tr>\n",
       "  </tbody>\n",
       "</table>\n",
       "</div>"
      ],
      "text/plain": [
       "   taxa_index                                        protein_seq  \\\n",
       "0        4417  MSKYDEALARMQLRSNEAFERITGQTVEQYQQEQRQNRMPTTAQLA...   \n",
       "\n",
       "           protein_desc  protein_len  protein_int_index  \n",
       "0  hypothetical protein         4602                  0  "
      ]
     },
     "execution_count": 9,
     "metadata": {},
     "output_type": "execute_result"
    }
   ],
   "source": [
    "con.execute(\"\"\"SELECT * FROM proteins LIMIT 1\"\"\").df()"
   ]
  },
  {
   "cell_type": "markdown",
   "id": "acca528e",
   "metadata": {},
   "source": [
    "__New sizes__\n",
    "\n",
    "proteins: 5 x 65427472 <br/>\n",
    "protein_pairs: 14 x 181500502 <br/>\n",
    "taxa: 8 x 16664 <br/>\n",
    "taxa_pairs: 12 x 750633"
   ]
  },
  {
   "cell_type": "markdown",
   "id": "d1e52c4b",
   "metadata": {},
   "source": [
    "#### Remove unnecessary taxa and taxa non-pairs"
   ]
  },
  {
   "cell_type": "code",
   "execution_count": 13,
   "id": "9077410a",
   "metadata": {},
   "outputs": [],
   "source": [
    "meso_cmd = \"\"\"SELECT DISTINCT meso_index\n",
    "FROM taxa_pairs\n",
    "WHERE is_pair = True\"\"\"\n",
    "\n",
    "useful_meso = con.execute(meso_cmd).df()\n",
    "\n",
    "thermo_cmd = \"\"\"SELECT DISTINCT thermo_index\n",
    "FROM taxa_pairs\n",
    "WHERE is_pair = True\"\"\"\n",
    "\n",
    "useful_thermo = con.execute(thermo_cmd).df()\n",
    "useful_taxa = tuple([i for i in useful_meso['meso_index']] + [i for i in useful_thermo['thermo_index']])"
   ]
  },
  {
   "cell_type": "code",
   "execution_count": 26,
   "id": "019a5d49",
   "metadata": {},
   "outputs": [
    {
     "data": {
      "text/plain": [
       "<duckdb.DuckDBPyConnection at 0x7fd912972ef0>"
      ]
     },
     "execution_count": 26,
     "metadata": {},
     "output_type": "execute_result"
    }
   ],
   "source": [
    "taxa_cmd = f\"\"\"CREATE OR REPLACE TABLE useful_taxa AS SELECT * FROM taxa WHERE taxa_index IN {useful_taxa}\"\"\"\n",
    "taxa_pairs_cmd = \"\"\"CREATE OR REPLACE TABLE useful_taxa_pairs AS SELECT * FROM taxa_pairs WHERE is_pair = True\"\"\"\n",
    "con.execute(taxa_cmd)\n",
    "con.execute(taxa_pairs_cmd)"
   ]
  },
  {
   "cell_type": "markdown",
   "id": "e10c5cbe",
   "metadata": {},
   "source": [
    "__New sizes__\n",
    "\n",
    "proteins: 5 x 65427472 <br/>\n",
    "protein_pairs: 14 x 181500502 <br/>\n",
    "taxa -> useful_taxa: 8 x 2533 <br/>\n",
    "taxa_pairs -> useful taxa_pairs: 12 x 13784 <br/>\n",
    "\n",
    "__Remove pairs with <10 C ogt difference__"
   ]
  },
  {
   "cell_type": "code",
   "execution_count": 40,
   "id": "7baf39ac",
   "metadata": {},
   "outputs": [
    {
     "data": {
      "text/plain": [
       "<duckdb.DuckDBPyConnection at 0x7fd912972ef0>"
      ]
     },
     "execution_count": 40,
     "metadata": {},
     "output_type": "execute_result"
    }
   ],
   "source": [
    "con.execute(\"\"\"CREATE TABLE ogt_taxa_pairs AS SELECT *,\n",
    "taxa_m.ogt AS meso_ogt,\n",
    "taxa_t.ogt AS thermo_ogt\n",
    "taxa_t.ogt - taxa_m.ogt AS ogt_diff\n",
    "FROM useful_taxa_pairs\n",
    "JOIN useful_taxa AS taxa_m ON (useful_taxa_pairs.meso_index = taxa_m.taxa_index)\n",
    "JOIN useful_taxa AS taxa_t ON (useful_taxa_pairs.thermo_index = taxa_t.taxa_index)\"\"\")"
   ]
  },
  {
   "cell_type": "code",
   "execution_count": 41,
   "id": "873f76e5",
   "metadata": {},
   "outputs": [
    {
     "data": {
      "text/plain": [
       "<duckdb.DuckDBPyConnection at 0x7fd912972ef0>"
      ]
     },
     "execution_count": 41,
     "metadata": {},
     "output_type": "execute_result"
    }
   ],
   "source": [
    "con.execute(\"\"\"CREATE OR REPLACE TABLE wide_taxa_pairs AS SELECT * FROM ogt_taxa_pairs WHERE (thermo_ogt - meso_ogt < 10)\"\"\")"
   ]
  },
  {
   "cell_type": "code",
   "execution_count": 43,
   "id": "c25df88d",
   "metadata": {},
   "outputs": [],
   "source": [
    "useful_wide_taxa_pairs = con.execute(\"\"\"SELECT taxa_index FROM wide_taxa_pairs\"\"\").df()\n",
    "uwtp_tuple = tuple([i for i in useful_wide_taxa_pairs['taxa_index']])"
   ]
  },
  {
   "cell_type": "markdown",
   "id": "7d534b17",
   "metadata": {},
   "source": [
    "__There are only 1424 taxa pairs in this database with 10 or greater difference in growth temp.__\n",
    "\n",
    "Let's see how many protein pairs we are now left with."
   ]
  },
  {
   "cell_type": "code",
   "execution_count": null,
   "id": "4eb59a9f",
   "metadata": {},
   "outputs": [],
   "source": [
    "final_proteins = con.execute(f\"\"\"SELECT * FROM protein_pairs WHERE taxa_pair_index IN {uwtp_tuple}\"\"\").df()\n",
    "final_proteins.head()"
   ]
  },
  {
   "cell_type": "markdown",
   "id": "ae3548c3",
   "metadata": {},
   "source": [
    "Need to make a new notebook to demonstrate this finding as it is likely very important for the impact of the project.\n",
    "\n",
    "- Need to show distribution of ogt differences between taxa_pairs\n",
    "- Need to show loss in protein sampling frequency with increasing ogt difference\n",
    "- Need to show sample size with ogt difference thresholding of multiple values"
   ]
  },
  {
   "cell_type": "code",
   "execution_count": null,
   "id": "5f5882ad",
   "metadata": {},
   "outputs": [],
   "source": []
  }
 ],
 "metadata": {
  "kernelspec": {
   "display_name": "Python 3 (ipykernel)",
   "language": "python",
   "name": "python3"
  },
  "language_info": {
   "codemirror_mode": {
    "name": "ipython",
    "version": 3
   },
   "file_extension": ".py",
   "mimetype": "text/x-python",
   "name": "python",
   "nbconvert_exporter": "python",
   "pygments_lexer": "ipython3",
   "version": "3.10.9"
  }
 },
 "nbformat": 4,
 "nbformat_minor": 5
}
