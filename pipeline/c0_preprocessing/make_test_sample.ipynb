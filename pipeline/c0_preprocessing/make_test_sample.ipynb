{
 "cells": [
  {
   "cell_type": "code",
   "execution_count": 2,
   "id": "9e6086e5",
   "metadata": {},
   "outputs": [],
   "source": [
    "import pandas as pd\n",
    "import numpy as np\n",
    "import duckdb\n",
    "import time\n",
    "\n",
    "import c0"
   ]
  },
  {
   "cell_type": "code",
   "execution_count": 2,
   "id": "a47dca92",
   "metadata": {},
   "outputs": [
    {
     "data": {
      "text/plain": [
       "<module 'c0' from '/home/ryfran/ValidProt/pipeline/c0_preprocessing/c0.py'>"
      ]
     },
     "execution_count": 2,
     "metadata": {},
     "output_type": "execute_result"
    }
   ],
   "source": [
    "import importlib\n",
    "importlib.reload(c0)"
   ]
  },
  {
   "cell_type": "code",
   "execution_count": 6,
   "id": "e4a7c996",
   "metadata": {},
   "outputs": [
    {
     "name": "stdout",
     "output_type": "stream",
     "text": [
      "Connecting to database...\n",
      "Connection established! Execution time: 30.534417390823364 seconds\n"
     ]
    }
   ],
   "source": [
    "con = c0.connect_db('/mnt/c/Users/Ryan/Documents/database')"
   ]
  },
  {
   "cell_type": "code",
   "execution_count": 4,
   "id": "7bf3828a",
   "metadata": {},
   "outputs": [
    {
     "name": "stdout",
     "output_type": "stream",
     "text": [
      "Constructing vp_taxa_pairs...\n",
      "Finished constructing vp_taxa_pairs. Execution time: 0.07487940788269043 seconds\n",
      "Constructing vp_taxa...\n",
      "Finished constructing vp_taxa. Execution time: 0.1631009578704834 seconds\n",
      "Filtering on ogt and 16S sequence parameters...\n",
      "Finished filtering. Execution time: 0.020915508270263672 seconds\n",
      "Constructing vp_protein_pairs...\n",
      "Finished constructing vp_protein_pairs. Execution time: 22.390434980392456 seconds\n",
      "Constructing vp_proteins...\n",
      "Finished constructing vp_proteins. Execution time: 36.234153747558594 seconds\n",
      "Constructing final dataset...\n",
      "Finishing up...\n",
      "Finished. Total execution time: 381.0085434913635 seconds\n"
     ]
    }
   ],
   "source": [
    "c0.build_validprot(con = con)"
   ]
  },
  {
   "cell_type": "code",
   "execution_count": 5,
   "id": "2f6ddff9",
   "metadata": {},
   "outputs": [
    {
     "ename": "ConnectionException",
     "evalue": "Connection Error: Connection has already been closed",
     "output_type": "error",
     "traceback": [
      "\u001b[0;31m---------------------------------------------------------------------------\u001b[0m",
      "\u001b[0;31mConnectionException\u001b[0m                       Traceback (most recent call last)",
      "Cell \u001b[0;32mIn[5], line 1\u001b[0m\n\u001b[0;32m----> 1\u001b[0m \u001b[43mcon\u001b[49m\u001b[38;5;241;43m.\u001b[39;49m\u001b[43mexecute\u001b[49m\u001b[43m(\u001b[49m\u001b[38;5;124;43m\"\"\"\u001b[39;49m\u001b[38;5;124;43mSELECT * FROM vp_final LIMIT 1\u001b[39;49m\u001b[38;5;124;43m\"\"\"\u001b[39;49m\u001b[43m)\u001b[49m\u001b[38;5;241m.\u001b[39mdf()\n",
      "\u001b[0;31mConnectionException\u001b[0m: Connection Error: Connection has already been closed"
     ]
    }
   ],
   "source": [
    "con.execute(\"\"\"SELECT * FROM vp_final LIMIT 1\"\"\").df()"
   ]
  },
  {
   "cell_type": "markdown",
   "id": "38c4fd2d",
   "metadata": {},
   "source": [
    "## Making sample dataset for unit testing"
   ]
  },
  {
   "cell_type": "code",
   "execution_count": 7,
   "id": "69c648bd",
   "metadata": {},
   "outputs": [],
   "source": [
    "con.execute(\"\"\"CREATE OR REPLACE TABLE vp_sample AS SELECT * FROM vp_final USING SAMPLE 100\"\"\")\n",
    "samp_df = con.execute(\"\"\"SELECT * FROM vp_sample\"\"\").df()\n",
    "samp_protein_pairs = con.execute(\"\"\"SELECT * FROM protein_pairs WHERE prot_pair_index IN \n",
    "(SELECT prot_pair_index FROM vp_sample)\"\"\").df()\n",
    "samp_proteins = con.execute(\"\"\"SELECT * FROM vp_proteins\n",
    "WHERE vp_proteins.protein_index IN (SELECT DISTINCT thermo_protein_index FROM vp_sample)\n",
    "OR vp_proteins.protein_index IN (SELECT DISTINCT meso_protein_index FROM vp_sample)\"\"\").df()\n",
    "samp_taxa_pairs = con.execute(\"\"\"SELECT * FROM vp_taxa_pairs WHERE taxa_pair_index IN (SELECT taxa_pair_index FROM vp_sample)\"\"\").df()\n",
    "samp_taxa = con.execute(\"\"\"SELECT * FROM vp_taxa WHERE taxa_index in (SELECT meso_index FROM vp_sample)\n",
    "OR taxa_index in (SELECT thermo_index FROM vp_sample)\"\"\").df()"
   ]
  },
  {
   "cell_type": "code",
   "execution_count": 8,
   "id": "b42c71b9",
   "metadata": {},
   "outputs": [],
   "source": [
    "con.execute(\"\"\"CREATE OR REPLACE TABLE rand_pairs AS SELECT * FROM protein_pairs USING SAMPLE 100\"\"\")\n",
    "rand_protein_pairs = con.execute(\"\"\"SELECT * FROM rand_pairs\"\"\").df()\n",
    "rand_proteins = con.execute(\"\"\"SELECT * FROM proteins WHERE protein_int_index IN (SELECT DISTINCT meso_protein_int_index FROM rand_pairs)\n",
    "OR protein_int_index IN (SELECT DISTINCT thermo_protein_int_index FROM rand_pairs)\"\"\").df()\n",
    "rand_taxa_pairs = con.execute(\"\"\"SELECT * FROM taxa_pairs WHERE taxa_pair_index IN (SELECT taxa_pair_index FROM rand_pairs)\"\"\").df()\n",
    "rand_taxa = con.execute(\"\"\"SELECT * FROM taxa WHERE taxa_index in (SELECT meso_index FROM rand_pairs)\n",
    "OR taxa_index in (SELECT thermo_index FROM rand_pairs)\"\"\").df()"
   ]
  },
  {
   "cell_type": "code",
   "execution_count": 9,
   "id": "f721432e",
   "metadata": {},
   "outputs": [],
   "source": [
    "test_protein_pairs = pd.concat([samp_protein_pairs, rand_protein_pairs], axis = 0)\n",
    "test_proteins = pd.concat([samp_proteins, rand_proteins], axis = 0)\n",
    "test_taxa = pd.concat([samp_taxa, rand_taxa], axis = 0)\n",
    "test_taxa_pairs = pd.concat([samp_taxa_pairs, rand_taxa_pairs], axis = 0)\n"
   ]
  },
  {
   "cell_type": "code",
   "execution_count": 35,
   "id": "204e4da4",
   "metadata": {},
   "outputs": [
    {
     "name": "stdout",
     "output_type": "stream",
     "text": [
      "(200, 21)\n",
      "(395, 6)\n",
      "(257, 12)\n",
      "(199, 17)\n"
     ]
    }
   ],
   "source": [
    "for df in [test_protein_pairs, test_proteins, test_taxa, test_taxa_pairs]:\n",
    "    print(df.shape)"
   ]
  },
  {
   "cell_type": "code",
   "execution_count": 10,
   "id": "39896884",
   "metadata": {},
   "outputs": [],
   "source": [
    "con.commit()\n",
    "con.close()"
   ]
  },
  {
   "cell_type": "code",
   "execution_count": 11,
   "id": "a93f9c79",
   "metadata": {},
   "outputs": [],
   "source": [
    "conn = duckdb.connect('validprot_testing', read_only = False)"
   ]
  },
  {
   "cell_type": "code",
   "execution_count": 12,
   "id": "8f9b788f",
   "metadata": {},
   "outputs": [
    {
     "data": {
      "text/plain": [
       "<duckdb.DuckDBPyConnection at 0x7f2090674270>"
      ]
     },
     "execution_count": 12,
     "metadata": {},
     "output_type": "execute_result"
    }
   ],
   "source": [
    "conn.execute(\"\"\"CREATE TABLE protein_pairs AS SELECT * FROM test_protein_pairs\"\"\")\n",
    "conn.execute(\"\"\"CREATE TABLE proteins AS SELECT * FROM test_proteins\"\"\")\n",
    "conn.execute(\"\"\"CREATE TABLE taxa_pairs AS SELECT * FROM test_taxa_pairs\"\"\")\n",
    "conn.execute(\"\"\"CREATE TABLE taxa AS SELECT * FROM test_taxa\"\"\")"
   ]
  },
  {
   "cell_type": "code",
   "execution_count": null,
   "id": "7b5f81ee",
   "metadata": {},
   "outputs": [],
   "source": [
    "con.commit()\n",
    "con.close()"
   ]
  },
  {
   "cell_type": "code",
   "execution_count": 43,
   "id": "b7eb3e7c",
   "metadata": {},
   "outputs": [
    {
     "data": {
      "text/html": [
       "<div>\n",
       "<style scoped>\n",
       "    .dataframe tbody tr th:only-of-type {\n",
       "        vertical-align: middle;\n",
       "    }\n",
       "\n",
       "    .dataframe tbody tr th {\n",
       "        vertical-align: top;\n",
       "    }\n",
       "\n",
       "    .dataframe thead th {\n",
       "        text-align: right;\n",
       "    }\n",
       "</style>\n",
       "<table border=\"1\" class=\"dataframe\">\n",
       "  <thead>\n",
       "    <tr style=\"text-align: right;\">\n",
       "      <th></th>\n",
       "      <th>table_name</th>\n",
       "    </tr>\n",
       "  </thead>\n",
       "  <tbody>\n",
       "    <tr>\n",
       "      <th>0</th>\n",
       "      <td>protein_pairs</td>\n",
       "    </tr>\n",
       "    <tr>\n",
       "      <th>1</th>\n",
       "      <td>proteins</td>\n",
       "    </tr>\n",
       "    <tr>\n",
       "      <th>2</th>\n",
       "      <td>taxa_pairs</td>\n",
       "    </tr>\n",
       "    <tr>\n",
       "      <th>3</th>\n",
       "      <td>taxa</td>\n",
       "    </tr>\n",
       "  </tbody>\n",
       "</table>\n",
       "</div>"
      ],
      "text/plain": [
       "      table_name\n",
       "0  protein_pairs\n",
       "1       proteins\n",
       "2     taxa_pairs\n",
       "3           taxa"
      ]
     },
     "execution_count": 43,
     "metadata": {},
     "output_type": "execute_result"
    }
   ],
   "source": [
    "conn.execute(\"\"\"SELECT TABLE_NAME\n",
    "FROM INFORMATION_SCHEMA.TABLES\n",
    "WHERE TABLE_TYPE='BASE TABLE'\"\"\").df()"
   ]
  },
  {
   "cell_type": "code",
   "execution_count": 14,
   "id": "8625647e",
   "metadata": {},
   "outputs": [
    {
     "data": {
      "text/html": [
       "<div>\n",
       "<style scoped>\n",
       "    .dataframe tbody tr th:only-of-type {\n",
       "        vertical-align: middle;\n",
       "    }\n",
       "\n",
       "    .dataframe tbody tr th {\n",
       "        vertical-align: top;\n",
       "    }\n",
       "\n",
       "    .dataframe thead th {\n",
       "        text-align: right;\n",
       "    }\n",
       "</style>\n",
       "<table border=\"1\" class=\"dataframe\">\n",
       "  <thead>\n",
       "    <tr style=\"text-align: right;\">\n",
       "      <th></th>\n",
       "      <th>thermo_index</th>\n",
       "      <th>meso_index</th>\n",
       "      <th>local_gap_compressed_percent_id</th>\n",
       "      <th>scaled_local_query_percent_id</th>\n",
       "      <th>scaled_local_symmetric_percent_id</th>\n",
       "      <th>local_E_value</th>\n",
       "      <th>query_align_start</th>\n",
       "      <th>query_align_end</th>\n",
       "      <th>subject_align_end</th>\n",
       "      <th>subject_align_start</th>\n",
       "      <th>query_align_len</th>\n",
       "      <th>query_align_cov</th>\n",
       "      <th>subject_align_len</th>\n",
       "      <th>subject_align_cov</th>\n",
       "      <th>bit_score</th>\n",
       "      <th>taxa_pair_index</th>\n",
       "      <th>is_pair</th>\n",
       "    </tr>\n",
       "  </thead>\n",
       "  <tbody>\n",
       "    <tr>\n",
       "      <th>0</th>\n",
       "      <td>16424</td>\n",
       "      <td>16564</td>\n",
       "      <td>0.930358</td>\n",
       "      <td>0.927849</td>\n",
       "      <td>0.927849</td>\n",
       "      <td>0.0</td>\n",
       "      <td>3</td>\n",
       "      <td>1483</td>\n",
       "      <td>1481</td>\n",
       "      <td>8</td>\n",
       "      <td>1481</td>\n",
       "      <td>0.998651</td>\n",
       "      <td>1474</td>\n",
       "      <td>0.993931</td>\n",
       "      <td>1161.0</td>\n",
       "      <td>741269</td>\n",
       "      <td>True</td>\n",
       "    </tr>\n",
       "    <tr>\n",
       "      <th>1</th>\n",
       "      <td>16424</td>\n",
       "      <td>16437</td>\n",
       "      <td>0.889191</td>\n",
       "      <td>0.881996</td>\n",
       "      <td>0.883784</td>\n",
       "      <td>0.0</td>\n",
       "      <td>6</td>\n",
       "      <td>1483</td>\n",
       "      <td>1477</td>\n",
       "      <td>6</td>\n",
       "      <td>1478</td>\n",
       "      <td>0.996628</td>\n",
       "      <td>1472</td>\n",
       "      <td>0.996615</td>\n",
       "      <td>958.0</td>\n",
       "      <td>741271</td>\n",
       "      <td>True</td>\n",
       "    </tr>\n",
       "    <tr>\n",
       "      <th>2</th>\n",
       "      <td>16507</td>\n",
       "      <td>16345</td>\n",
       "      <td>0.930499</td>\n",
       "      <td>0.935550</td>\n",
       "      <td>0.935867</td>\n",
       "      <td>0.0</td>\n",
       "      <td>1</td>\n",
       "      <td>1474</td>\n",
       "      <td>1473</td>\n",
       "      <td>1</td>\n",
       "      <td>1474</td>\n",
       "      <td>1.000000</td>\n",
       "      <td>1473</td>\n",
       "      <td>1.000000</td>\n",
       "      <td>1150.0</td>\n",
       "      <td>744513</td>\n",
       "      <td>True</td>\n",
       "    </tr>\n",
       "    <tr>\n",
       "      <th>3</th>\n",
       "      <td>16507</td>\n",
       "      <td>16258</td>\n",
       "      <td>0.898236</td>\n",
       "      <td>0.898236</td>\n",
       "      <td>0.898541</td>\n",
       "      <td>0.0</td>\n",
       "      <td>1</td>\n",
       "      <td>1474</td>\n",
       "      <td>1473</td>\n",
       "      <td>1</td>\n",
       "      <td>1474</td>\n",
       "      <td>1.000000</td>\n",
       "      <td>1473</td>\n",
       "      <td>1.000000</td>\n",
       "      <td>1001.0</td>\n",
       "      <td>744518</td>\n",
       "      <td>True</td>\n",
       "    </tr>\n",
       "    <tr>\n",
       "      <th>4</th>\n",
       "      <td>14004</td>\n",
       "      <td>2010</td>\n",
       "      <td>0.913142</td>\n",
       "      <td>0.896884</td>\n",
       "      <td>0.901902</td>\n",
       "      <td>0.0</td>\n",
       "      <td>31</td>\n",
       "      <td>1348</td>\n",
       "      <td>1333</td>\n",
       "      <td>16</td>\n",
       "      <td>1318</td>\n",
       "      <td>0.977745</td>\n",
       "      <td>1318</td>\n",
       "      <td>0.988747</td>\n",
       "      <td>953.0</td>\n",
       "      <td>614416</td>\n",
       "      <td>True</td>\n",
       "    </tr>\n",
       "  </tbody>\n",
       "</table>\n",
       "</div>"
      ],
      "text/plain": [
       "   thermo_index  meso_index  local_gap_compressed_percent_id  \\\n",
       "0         16424       16564                         0.930358   \n",
       "1         16424       16437                         0.889191   \n",
       "2         16507       16345                         0.930499   \n",
       "3         16507       16258                         0.898236   \n",
       "4         14004        2010                         0.913142   \n",
       "\n",
       "   scaled_local_query_percent_id  scaled_local_symmetric_percent_id  \\\n",
       "0                       0.927849                           0.927849   \n",
       "1                       0.881996                           0.883784   \n",
       "2                       0.935550                           0.935867   \n",
       "3                       0.898236                           0.898541   \n",
       "4                       0.896884                           0.901902   \n",
       "\n",
       "   local_E_value  query_align_start  query_align_end  subject_align_end  \\\n",
       "0            0.0                  3             1483               1481   \n",
       "1            0.0                  6             1483               1477   \n",
       "2            0.0                  1             1474               1473   \n",
       "3            0.0                  1             1474               1473   \n",
       "4            0.0                 31             1348               1333   \n",
       "\n",
       "   subject_align_start  query_align_len  query_align_cov  subject_align_len  \\\n",
       "0                    8             1481         0.998651               1474   \n",
       "1                    6             1478         0.996628               1472   \n",
       "2                    1             1474         1.000000               1473   \n",
       "3                    1             1474         1.000000               1473   \n",
       "4                   16             1318         0.977745               1318   \n",
       "\n",
       "   subject_align_cov  bit_score  taxa_pair_index  is_pair  \n",
       "0           0.993931     1161.0           741269     True  \n",
       "1           0.996615      958.0           741271     True  \n",
       "2           1.000000     1150.0           744513     True  \n",
       "3           1.000000     1001.0           744518     True  \n",
       "4           0.988747      953.0           614416     True  "
      ]
     },
     "execution_count": 14,
     "metadata": {},
     "output_type": "execute_result"
    }
   ],
   "source": [
    "samp_taxa = con.execute(\"\"\"SELECT * FROM vp_taxa_pairs WHERE taxa_pair_index IN (SELECT taxa_pair_index FROM vp_final)\"\"\").df()\n",
    "samp_taxa.head()"
   ]
  },
  {
   "cell_type": "code",
   "execution_count": 15,
   "id": "4ccdf4b3",
   "metadata": {},
   "outputs": [
    {
     "data": {
      "text/html": [
       "<div>\n",
       "<style scoped>\n",
       "    .dataframe tbody tr th:only-of-type {\n",
       "        vertical-align: middle;\n",
       "    }\n",
       "\n",
       "    .dataframe tbody tr th {\n",
       "        vertical-align: top;\n",
       "    }\n",
       "\n",
       "    .dataframe thead th {\n",
       "        text-align: right;\n",
       "    }\n",
       "</style>\n",
       "<table border=\"1\" class=\"dataframe\">\n",
       "  <thead>\n",
       "    <tr style=\"text-align: right;\">\n",
       "      <th></th>\n",
       "      <th>taxa_index</th>\n",
       "      <th>ncbi_taxid</th>\n",
       "      <th>record_name</th>\n",
       "      <th>filepath</th>\n",
       "      <th>taxonomy</th>\n",
       "      <th>organism</th>\n",
       "      <th>bacdive_id</th>\n",
       "      <th>ogt_scraped_string</th>\n",
       "      <th>seq_16srRNA</th>\n",
       "      <th>len_16s</th>\n",
       "      <th>ogt</th>\n",
       "      <th>thermophile_label</th>\n",
       "    </tr>\n",
       "  </thead>\n",
       "  <tbody>\n",
       "    <tr>\n",
       "      <th>0</th>\n",
       "      <td>5</td>\n",
       "      <td>1763543</td>\n",
       "      <td>NZ_BMNB01000001</td>\n",
       "      <td>./data/refseq/bacteria/GCF_014646235.1_ASM1464...</td>\n",
       "      <td>Bacteria Actinobacteria Micromonosporales Micr...</td>\n",
       "      <td>Verrucosispora sonchi</td>\n",
       "      <td>132025</td>\n",
       "      <td>28</td>\n",
       "      <td>TTGTTGGAGAGTTTGATCCTGGCTCAGGACGAACGCTGGCGGCGTG...</td>\n",
       "      <td>1517</td>\n",
       "      <td>28.0</td>\n",
       "      <td>False</td>\n",
       "    </tr>\n",
       "  </tbody>\n",
       "</table>\n",
       "</div>"
      ],
      "text/plain": [
       "   taxa_index  ncbi_taxid      record_name  \\\n",
       "0           5     1763543  NZ_BMNB01000001   \n",
       "\n",
       "                                            filepath  \\\n",
       "0  ./data/refseq/bacteria/GCF_014646235.1_ASM1464...   \n",
       "\n",
       "                                            taxonomy               organism  \\\n",
       "0  Bacteria Actinobacteria Micromonosporales Micr...  Verrucosispora sonchi   \n",
       "\n",
       "   bacdive_id ogt_scraped_string  \\\n",
       "0      132025                 28   \n",
       "\n",
       "                                         seq_16srRNA  len_16s   ogt  \\\n",
       "0  TTGTTGGAGAGTTTGATCCTGGCTCAGGACGAACGCTGGCGGCGTG...     1517  28.0   \n",
       "\n",
       "   thermophile_label  \n",
       "0              False  "
      ]
     },
     "execution_count": 15,
     "metadata": {},
     "output_type": "execute_result"
    }
   ],
   "source": [
    "con.execute(\"\"\"SELECT * FROM vp_taxa LIMIT 1\"\"\").df()"
   ]
  },
  {
   "cell_type": "code",
   "execution_count": 10,
   "id": "ec8e58d1",
   "metadata": {},
   "outputs": [
    {
     "data": {
      "text/plain": [
       "Index(['thermo_protein_index', 'meso_protein_index',\n",
       "       'local_gap_compressed_percent_id', 'scaled_local_query_percent_id',\n",
       "       'scaled_local_symmetric_percent_id', 'local_E_value',\n",
       "       'query_align_start', 'query_align_end', 'subject_align_end',\n",
       "       'subject_align_start', 'query_align_len', 'query_align_cov',\n",
       "       'subject_align_len', 'subject_align_cov', 'bit_score', 'thermo_index',\n",
       "       'meso_index', 'prot_pair_index', 'meso_protein_int_index',\n",
       "       'thermo_protein_int_index', 'taxa_pair_index',\n",
       "       'local_gap_compressed_percent_id_16s',\n",
       "       'scaled_local_query_percent_id_16s',\n",
       "       'scaled_local_symmetric_percent_id_16s', 'query_align_cov_16s',\n",
       "       'subject_align_cov_16s', 'bit_score_16s', 'm_ogt', 't_ogt',\n",
       "       'ogt_difference', 'm_protein_seq', 't_protein_seq', 'm_protein_desc',\n",
       "       't_protein_desc', 'm_protein_len', 't_protein_len'],\n",
       "      dtype='object')"
      ]
     },
     "execution_count": 10,
     "metadata": {},
     "output_type": "execute_result"
    }
   ],
   "source": [
    "con.execute(\"\"\"SELECT * FROM vp_final LIMIT 1\"\"\").df().columns"
   ]
  },
  {
   "cell_type": "code",
   "execution_count": null,
   "id": "8b5bc961",
   "metadata": {},
   "outputs": [],
   "source": []
  }
 ],
 "metadata": {
  "kernelspec": {
   "display_name": "Python 3 (ipykernel)",
   "language": "python",
   "name": "python3"
  },
  "language_info": {
   "codemirror_mode": {
    "name": "ipython",
    "version": 3
   },
   "file_extension": ".py",
   "mimetype": "text/x-python",
   "name": "python",
   "nbconvert_exporter": "python",
   "pygments_lexer": "ipython3",
   "version": "3.10.9"
  }
 },
 "nbformat": 4,
 "nbformat_minor": 5
}
