{
 "cells": [
  {
   "cell_type": "code",
   "execution_count": 1,
   "id": "3d798cc9",
   "metadata": {},
   "outputs": [],
   "source": [
    "import pandas as pd\n",
    "import duckdb\n",
    "import numpy as np\n",
    "#from l2therm_in import path, sample_size"
   ]
  },
  {
   "cell_type": "code",
   "execution_count": 2,
   "id": "0cdaa6ad",
   "metadata": {},
   "outputs": [],
   "source": [
    "con = duckdb.connect('/mnt/c/Users/Ryan/Documents/database')"
   ]
  },
  {
   "cell_type": "code",
   "execution_count": 3,
   "id": "ab7ccb5c",
   "metadata": {},
   "outputs": [
    {
     "data": {
      "text/plain": [
       "<duckdb.DuckDBPyConnection at 0x7fc1ee8f7fb0>"
      ]
     },
     "execution_count": 3,
     "metadata": {},
     "output_type": "execute_result"
    }
   ],
   "source": [
    "con.execute(\"\"\"CREATE OR REPLACE TABLE validprot AS\n",
    "    SELECT\n",
    "        prot_pair_index,\n",
    "        meso_protein_int_index,\n",
    "        thermo_protein_int_index\n",
    "    FROM protein_pairs\n",
    "    USING SAMPLE 1000\"\"\")\n",
    "#con.execute(\"\"\"SELECT * FROM validprot\"\"\").df()"
   ]
  },
  {
   "cell_type": "code",
   "execution_count": 4,
   "id": "83d12379",
   "metadata": {},
   "outputs": [],
   "source": [
    "#con.execute(\"\"\"CREATE OR REPLACE TABLE mesos AS\n",
    "#    SELECT meso_protein_int_index FROM validprot\"\"\")\n",
    "protein_index = con.execute(\"\"\"SELECT meso_protein_int_index, thermo_protein_int_index FROM validprot\"\"\").df()\n",
    "\n",
    "meso_protein_list = [i for i in protein_index['meso_protein_int_index']]\n",
    "thermo_protein_list = [i for i in protein_index['thermo_protein_int_index']]"
   ]
  },
  {
   "cell_type": "code",
   "execution_count": 5,
   "id": "69a44ebd",
   "metadata": {},
   "outputs": [],
   "source": [
    "m = ', '.join(map(str, meso_protein_list))\n",
    "t = ', '.join(map(str, thermo_protein_list))"
   ]
  },
  {
   "cell_type": "code",
   "execution_count": 7,
   "id": "05bfa981",
   "metadata": {},
   "outputs": [
    {
     "data": {
      "text/plain": [
       "<duckdb.DuckDBPyConnection at 0x7fc1ee8f7fb0>"
      ]
     },
     "execution_count": 7,
     "metadata": {},
     "output_type": "execute_result"
    }
   ],
   "source": [
    "con.execute(f\"\"\"CREATE OR REPLACE TABLE relevant_meso AS SELECT * FROM proteins WHERE protein_int_index IN ({m})\"\"\")\n",
    "con.execute(f\"\"\"CREATE OR REPLACE TABLE relevant_thermo AS SELECT * FROM proteins WHERE protein_int_index IN ({t})\"\"\")"
   ]
  },
  {
   "cell_type": "code",
   "execution_count": 8,
   "id": "46abfa1a",
   "metadata": {},
   "outputs": [
    {
     "data": {
      "text/html": [
       "<div>\n",
       "<style scoped>\n",
       "    .dataframe tbody tr th:only-of-type {\n",
       "        vertical-align: middle;\n",
       "    }\n",
       "\n",
       "    .dataframe tbody tr th {\n",
       "        vertical-align: top;\n",
       "    }\n",
       "\n",
       "    .dataframe thead th {\n",
       "        text-align: right;\n",
       "    }\n",
       "</style>\n",
       "<table border=\"1\" class=\"dataframe\">\n",
       "  <thead>\n",
       "    <tr style=\"text-align: right;\">\n",
       "      <th></th>\n",
       "      <th>meso_seq</th>\n",
       "      <th>thermo_seq</th>\n",
       "    </tr>\n",
       "  </thead>\n",
       "  <tbody>\n",
       "    <tr>\n",
       "      <th>0</th>\n",
       "      <td>MIELIRTNDAVIISFVESLMRDAGIGCFVADQNMSVLDGSIGILPR...</td>\n",
       "      <td>MRELLRTNDTVRLSFLRVLLRDAGIDAIVLDQHMSVLEGSASAIPR...</td>\n",
       "    </tr>\n",
       "    <tr>\n",
       "      <th>1</th>\n",
       "      <td>MGFVTTRDGTEIFYKDWGTGTPVVFSHGWPLNADIWDDQLNLLAEN...</td>\n",
       "      <td>MTTTEGWHLPDRVRLTDGEVAAGVVGDGPPVVLTHGTPAWSFLWRS...</td>\n",
       "    </tr>\n",
       "    <tr>\n",
       "      <th>2</th>\n",
       "      <td>MRVRSGLVVAALLVAGVALTGCDMNVGLSGDSTHSARSFDLSGDAV...</td>\n",
       "      <td>MTNRRTGIVAALAATGMAVALGGCALLDATTYHEDRRYRLPATVSE...</td>\n",
       "    </tr>\n",
       "    <tr>\n",
       "      <th>3</th>\n",
       "      <td>MTTVIEVQELHKRYGDTVAVADVSFRVDEGEIFGILGSNGAGKTTT...</td>\n",
       "      <td>MTDQLGGLPLRLEGVVHLYPIPGGDVVALRGVDLRIQAGEIVGLLG...</td>\n",
       "    </tr>\n",
       "    <tr>\n",
       "      <th>4</th>\n",
       "      <td>MDLRGKVVVITGAAGGIGAAMARRFADAGVTGLVLADLDGTGVEDL...</td>\n",
       "      <td>MKSFAGKVAVITGAASGIGRALAEELAAHRAILALSDIDTEGLAET...</td>\n",
       "    </tr>\n",
       "    <tr>\n",
       "      <th>...</th>\n",
       "      <td>...</td>\n",
       "      <td>...</td>\n",
       "    </tr>\n",
       "    <tr>\n",
       "      <th>995</th>\n",
       "      <td>MSTPTGRADGLRQLEQEVGVLVRRVRRVIHERARSVHPDLQPVSYL...</td>\n",
       "      <td>MPTPPMTAIGDPNGDDVALGMLLATAHQHARRVLDRALGHLGIQTR...</td>\n",
       "    </tr>\n",
       "    <tr>\n",
       "      <th>996</th>\n",
       "      <td>MATDTRGLTTEPAVRVRSLHRSFTANGGVLNGLDLDIAAGEFVALI...</td>\n",
       "      <td>MSGMLTLQGLAVGYPGRRGRRARRVLEGVNAQARAGDLTVLIGPNG...</td>\n",
       "    </tr>\n",
       "    <tr>\n",
       "      <th>997</th>\n",
       "      <td>MAILYHHPLCPHSRFVRLAMGEYGLDADLVEERVWERREPFLALNP...</td>\n",
       "      <td>MRQLYHFWLSPFSRKVRLVLAEKKLDFELTAEPVWERRDDFLLLNP...</td>\n",
       "    </tr>\n",
       "    <tr>\n",
       "      <th>998</th>\n",
       "      <td>MTATATRPATDPAAPVTAGTGFLTSLRVFSVRSLKKSFRDGESMLM...</td>\n",
       "      <td>MGVAVAPQAVRVPERSVRHDLRAVKIVLHRELIWFWRDRMRLVANL...</td>\n",
       "    </tr>\n",
       "    <tr>\n",
       "      <th>999</th>\n",
       "      <td>MSLKLTDVTLTYPDGDSRLTALRQVSLEVPKGSLTAVVGPSGSGKS...</td>\n",
       "      <td>MTASATSRDRATAVEGDGRHRLHARDLRLAYGDRVIVDGLDFDVVD...</td>\n",
       "    </tr>\n",
       "  </tbody>\n",
       "</table>\n",
       "<p>1000 rows × 2 columns</p>\n",
       "</div>"
      ],
      "text/plain": [
       "                                              meso_seq  \\\n",
       "0    MIELIRTNDAVIISFVESLMRDAGIGCFVADQNMSVLDGSIGILPR...   \n",
       "1    MGFVTTRDGTEIFYKDWGTGTPVVFSHGWPLNADIWDDQLNLLAEN...   \n",
       "2    MRVRSGLVVAALLVAGVALTGCDMNVGLSGDSTHSARSFDLSGDAV...   \n",
       "3    MTTVIEVQELHKRYGDTVAVADVSFRVDEGEIFGILGSNGAGKTTT...   \n",
       "4    MDLRGKVVVITGAAGGIGAAMARRFADAGVTGLVLADLDGTGVEDL...   \n",
       "..                                                 ...   \n",
       "995  MSTPTGRADGLRQLEQEVGVLVRRVRRVIHERARSVHPDLQPVSYL...   \n",
       "996  MATDTRGLTTEPAVRVRSLHRSFTANGGVLNGLDLDIAAGEFVALI...   \n",
       "997  MAILYHHPLCPHSRFVRLAMGEYGLDADLVEERVWERREPFLALNP...   \n",
       "998  MTATATRPATDPAAPVTAGTGFLTSLRVFSVRSLKKSFRDGESMLM...   \n",
       "999  MSLKLTDVTLTYPDGDSRLTALRQVSLEVPKGSLTAVVGPSGSGKS...   \n",
       "\n",
       "                                            thermo_seq  \n",
       "0    MRELLRTNDTVRLSFLRVLLRDAGIDAIVLDQHMSVLEGSASAIPR...  \n",
       "1    MTTTEGWHLPDRVRLTDGEVAAGVVGDGPPVVLTHGTPAWSFLWRS...  \n",
       "2    MTNRRTGIVAALAATGMAVALGGCALLDATTYHEDRRYRLPATVSE...  \n",
       "3    MTDQLGGLPLRLEGVVHLYPIPGGDVVALRGVDLRIQAGEIVGLLG...  \n",
       "4    MKSFAGKVAVITGAASGIGRALAEELAAHRAILALSDIDTEGLAET...  \n",
       "..                                                 ...  \n",
       "995  MPTPPMTAIGDPNGDDVALGMLLATAHQHARRVLDRALGHLGIQTR...  \n",
       "996  MSGMLTLQGLAVGYPGRRGRRARRVLEGVNAQARAGDLTVLIGPNG...  \n",
       "997  MRQLYHFWLSPFSRKVRLVLAEKKLDFELTAEPVWERRDDFLLLNP...  \n",
       "998  MGVAVAPQAVRVPERSVRHDLRAVKIVLHRELIWFWRDRMRLVANL...  \n",
       "999  MTASATSRDRATAVEGDGRHRLHARDLRLAYGDRVIVDGLDFDVVD...  \n",
       "\n",
       "[1000 rows x 2 columns]"
      ]
     },
     "execution_count": 8,
     "metadata": {},
     "output_type": "execute_result"
    }
   ],
   "source": [
    "con.execute(\"\"\"SELECT\n",
    "    proteins_m.protein_seq AS meso_seq,\n",
    "    proteins_t.protein_seq AS thermo_seq,\n",
    "    FROM validprot\n",
    "    JOIN relevant_meso AS proteins_m ON (validprot.meso_protein_int_index=proteins_m.protein_int_index)\n",
    "    JOIN relevant_thermo AS proteins_t ON (validprot.thermo_protein_int_index=proteins_t.protein_int_index)\n",
    "    \"\"\").df()"
   ]
  }
 ],
 "metadata": {
  "kernelspec": {
   "display_name": "Python 3 (ipykernel)",
   "language": "python",
   "name": "python3"
  },
  "language_info": {
   "codemirror_mode": {
    "name": "ipython",
    "version": 3
   },
   "file_extension": ".py",
   "mimetype": "text/x-python",
   "name": "python",
   "nbconvert_exporter": "python",
   "pygments_lexer": "ipython3",
   "version": "3.10.9"
  }
 },
 "nbformat": 4,
 "nbformat_minor": 5
}
